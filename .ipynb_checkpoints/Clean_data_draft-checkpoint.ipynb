{
 "cells": [
  {
   "cell_type": "code",
   "execution_count": null,
   "id": "1c4c11f3-8e82-4f41-ac2d-5529b2706882",
   "metadata": {},
   "outputs": [],
   "source": [
    "# import dependencies"
   ]
  },
  {
   "cell_type": "code",
   "execution_count": null,
   "id": "0aa00b4e-829c-4d46-9c54-d01da771fb88",
   "metadata": {},
   "outputs": [],
   "source": [
    "# import Major City\n",
    "\n",
    "# import country"
   ]
  },
  {
   "cell_type": "code",
   "execution_count": null,
   "id": "f7d756d9-e96d-4a69-b18f-b26c067e3e51",
   "metadata": {},
   "outputs": [],
   "source": [
    "# clean for Northern Hemisphere only"
   ]
  },
  {
   "cell_type": "code",
   "execution_count": null,
   "id": "4ad33241-7d76-4ead-941e-628b85368a08",
   "metadata": {},
   "outputs": [],
   "source": [
    "# group by City\n",
    "\n",
    "# group by Country"
   ]
  }
 ],
 "metadata": {
  "kernelspec": {
   "display_name": "PythonData",
   "language": "python",
   "name": "pythondata"
  },
  "language_info": {
   "codemirror_mode": {
    "name": "ipython",
    "version": 3
   },
   "file_extension": ".py",
   "mimetype": "text/x-python",
   "name": "python",
   "nbconvert_exporter": "python",
   "pygments_lexer": "ipython3",
   "version": "3.7.13"
  }
 },
 "nbformat": 4,
 "nbformat_minor": 5
}
